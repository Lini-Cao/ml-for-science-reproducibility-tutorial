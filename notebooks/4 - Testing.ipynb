{
 "cells": [
  {
   "cell_type": "markdown",
   "metadata": {},
   "source": [
    "# Testing\n",
    "\n",
    "Machine learning is very hard to test. Due to the nature of the our models, we often have soft failures in the model that are difficult to test against.\n",
    "\n",
    "Writing software tests in science, is already incredibly hard, so in this section we’ll touch on \n",
    "\n",
    "- some fairly simple tests we can implement to ensure consistency of our input data\n",
    "- avoid bad bugs in data loading procedures\n",
    "- some strategies to probe our models\n"
   ]
  },
  {
   "cell_type": "code",
   "execution_count": 1,
   "id": "54158e1d",
   "metadata": {
    "execution": {
     "iopub.execute_input": "2022-12-02T12:08:45.363850Z",
     "iopub.status.busy": "2022-12-02T12:08:45.363544Z",
     "iopub.status.idle": "2022-12-02T12:08:45.377742Z",
     "shell.execute_reply": "2022-12-02T12:08:45.376884Z"
    }
   },
   "outputs": [],
   "source": [
    "from pathlib import Path\n",
    "\n",
    "DATA_FOLDER = Path(\"..\") / \"data\"\n",
    "DATA_FILEPATH = DATA_FOLDER / \"penguins_clean.csv\""
   ]
  },
  {
   "cell_type": "code",
   "execution_count": 2,
   "metadata": {
    "execution": {
     "iopub.execute_input": "2022-12-02T12:08:45.382636Z",
     "iopub.status.busy": "2022-12-02T12:08:45.382401Z",
     "iopub.status.idle": "2022-12-02T12:08:45.558824Z",
     "shell.execute_reply": "2022-12-02T12:08:45.558514Z"
    }
   },
   "outputs": [
    {
     "data": {
      "text/html": [
       "<div>\n",
       "<style scoped>\n",
       "    .dataframe tbody tr th:only-of-type {\n",
       "        vertical-align: middle;\n",
       "    }\n",
       "\n",
       "    .dataframe tbody tr th {\n",
       "        vertical-align: top;\n",
       "    }\n",
       "\n",
       "    .dataframe thead th {\n",
       "        text-align: right;\n",
       "    }\n",
       "</style>\n",
       "<table border=\"1\" class=\"dataframe\">\n",
       "  <thead>\n",
       "    <tr style=\"text-align: right;\">\n",
       "      <th></th>\n",
       "      <th>Culmen Length (mm)</th>\n",
       "      <th>Culmen Depth (mm)</th>\n",
       "      <th>Flipper Length (mm)</th>\n",
       "      <th>Sex</th>\n",
       "      <th>Species</th>\n",
       "    </tr>\n",
       "  </thead>\n",
       "  <tbody>\n",
       "    <tr>\n",
       "      <th>0</th>\n",
       "      <td>39.1</td>\n",
       "      <td>18.7</td>\n",
       "      <td>181.0</td>\n",
       "      <td>MALE</td>\n",
       "      <td>Adelie Penguin (Pygoscelis adeliae)</td>\n",
       "    </tr>\n",
       "    <tr>\n",
       "      <th>1</th>\n",
       "      <td>39.5</td>\n",
       "      <td>17.4</td>\n",
       "      <td>186.0</td>\n",
       "      <td>FEMALE</td>\n",
       "      <td>Adelie Penguin (Pygoscelis adeliae)</td>\n",
       "    </tr>\n",
       "    <tr>\n",
       "      <th>2</th>\n",
       "      <td>40.3</td>\n",
       "      <td>18.0</td>\n",
       "      <td>195.0</td>\n",
       "      <td>FEMALE</td>\n",
       "      <td>Adelie Penguin (Pygoscelis adeliae)</td>\n",
       "    </tr>\n",
       "    <tr>\n",
       "      <th>3</th>\n",
       "      <td>36.7</td>\n",
       "      <td>19.3</td>\n",
       "      <td>193.0</td>\n",
       "      <td>FEMALE</td>\n",
       "      <td>Adelie Penguin (Pygoscelis adeliae)</td>\n",
       "    </tr>\n",
       "    <tr>\n",
       "      <th>4</th>\n",
       "      <td>39.3</td>\n",
       "      <td>20.6</td>\n",
       "      <td>190.0</td>\n",
       "      <td>MALE</td>\n",
       "      <td>Adelie Penguin (Pygoscelis adeliae)</td>\n",
       "    </tr>\n",
       "  </tbody>\n",
       "</table>\n",
       "</div>"
      ],
      "text/plain": [
       "   Culmen Length (mm)  Culmen Depth (mm)  Flipper Length (mm)     Sex  \\\n",
       "0                39.1               18.7                181.0    MALE   \n",
       "1                39.5               17.4                186.0  FEMALE   \n",
       "2                40.3               18.0                195.0  FEMALE   \n",
       "3                36.7               19.3                193.0  FEMALE   \n",
       "4                39.3               20.6                190.0    MALE   \n",
       "\n",
       "                               Species  \n",
       "0  Adelie Penguin (Pygoscelis adeliae)  \n",
       "1  Adelie Penguin (Pygoscelis adeliae)  \n",
       "2  Adelie Penguin (Pygoscelis adeliae)  \n",
       "3  Adelie Penguin (Pygoscelis adeliae)  \n",
       "4  Adelie Penguin (Pygoscelis adeliae)  "
      ]
     },
     "execution_count": 2,
     "metadata": {},
     "output_type": "execute_result"
    }
   ],
   "source": [
    "import pandas as pd\n",
    "penguins = pd.read_csv(DATA_FILEPATH)\n",
    "penguins.head()"
   ]
  },
  {
   "cell_type": "code",
   "execution_count": 3,
   "metadata": {
    "execution": {
     "iopub.execute_input": "2022-12-02T12:08:45.560369Z",
     "iopub.status.busy": "2022-12-02T12:08:45.560286Z",
     "iopub.status.idle": "2022-12-02T12:08:45.762886Z",
     "shell.execute_reply": "2022-12-02T12:08:45.762634Z"
    }
   },
   "outputs": [],
   "source": [
    "from sklearn.model_selection import train_test_split\n",
    "num_features = [\"Culmen Length (mm)\", \"Culmen Depth (mm)\", \"Flipper Length (mm)\"]\n",
    "cat_features = [\"Sex\"]\n",
    "features = num_features + cat_features\n",
    "target = [\"Species\"]\n",
    "\n",
    "X_train, X_test, y_train, y_test = train_test_split(penguins[features], penguins[target], stratify=penguins[target[0]], train_size=.7, random_state=42)"
   ]
  },
  {
   "cell_type": "code",
   "execution_count": 4,
   "metadata": {
    "execution": {
     "iopub.execute_input": "2022-12-02T12:08:45.764514Z",
     "iopub.status.busy": "2022-12-02T12:08:45.764455Z",
     "iopub.status.idle": "2022-12-02T12:08:45.781098Z",
     "shell.execute_reply": "2022-12-02T12:08:45.780813Z"
    },
    "lines_to_next_cell": 1
   },
   "outputs": [
    {
     "data": {
      "text/plain": [
       "1.0"
      ]
     },
     "execution_count": 4,
     "metadata": {},
     "output_type": "execute_result"
    }
   ],
   "source": [
    "from sklearn.svm import SVC\n",
    "from sklearn.compose import ColumnTransformer\n",
    "from sklearn.pipeline import Pipeline\n",
    "from sklearn.preprocessing import StandardScaler, OneHotEncoder\n",
    "import joblib\n",
    "from joblib import load\n",
    "\n",
    "MODEL_FOLDER = Path(\"..\") / \"model\"\n",
    "MODEL_EXPORT_FILE = MODEL_FOLDER / \"svc.joblib\"\n",
    "\n",
    "clf = load(MODEL_EXPORT_FILE)\n",
    "clf.score(X_test, y_test)"
   ]
  },
  {
   "cell_type": "markdown",
   "metadata": {},
   "source": [
    "## Deterministic Tests\n",
    "When I work with neural networks, implementing a new layer, method, or fancy thing, I try to write a test for that layer. The `Conv2D` layer in Keras and Pytorch for example should always do the same exact thing, when they convole a kernel with an image.\n",
    "\n",
    "Consider writing a small `pytest` test that takes a simple numpy array and tests against a known output.\n",
    "\n",
    "You can check out the `keras` test suite [here](https://github.com/keras-team/keras/tree/master/keras/tests) and an example how they validate the [input and output shapes](https://github.com/keras-team/keras/blob/18248b084f932e294402f0b772b49ed162c25208/keras/testing_infra/test_utils.py#L217).\n",
    "\n",
    "Admittedly this isn't always easy to do and can go beyond the need for research scripts."
   ]
  },
  {
   "cell_type": "markdown",
   "metadata": {},
   "source": [
    "## Data Tests for Models\n",
    "\n",
    "An even easier test is by essentially reusing the notebook from the Model Evaluation and writing a test function for it.\n"
   ]
  },
  {
   "cell_type": "code",
   "execution_count": 5,
   "metadata": {
    "execution": {
     "iopub.execute_input": "2022-12-02T12:08:45.782688Z",
     "iopub.status.busy": "2022-12-02T12:08:45.782605Z",
     "iopub.status.idle": "2022-12-02T12:08:45.784656Z",
     "shell.execute_reply": "2022-12-02T12:08:45.784383Z"
    }
   },
   "outputs": [],
   "source": [
    "def test_penguins(clf):\n",
    "    # Define data you definitely know the answer to\n",
    "    test_data = pd.DataFrame([[34.6, 21.1, 198.0, \"MALE\"],\n",
    "                              [46.1, 18.2, 178.0, \"FEMALE\"],\n",
    "                              [52.5, 15.6, 221.0, \"MALE\"]], \n",
    "             columns=[\"Culmen Length (mm)\", \"Culmen Depth (mm)\", \"Flipper Length (mm)\", \"Sex\"])\n",
    "    # Define target to the data\n",
    "    test_target = ['Adelie Penguin (Pygoscelis adeliae)',\n",
    "                   'Chinstrap penguin (Pygoscelis antarctica)',\n",
    "                   'Gentoo penguin (Pygoscelis papua)']\n",
    "    # Assert the model should get these right.\n",
    "    assert clf.score(test_data, test_target) == 1"
   ]
  },
  {
   "cell_type": "code",
   "execution_count": 6,
   "metadata": {
    "execution": {
     "iopub.execute_input": "2022-12-02T12:08:45.786086Z",
     "iopub.status.busy": "2022-12-02T12:08:45.786003Z",
     "iopub.status.idle": "2022-12-02T12:08:45.789441Z",
     "shell.execute_reply": "2022-12-02T12:08:45.789175Z"
    }
   },
   "outputs": [],
   "source": [
    "test_penguins(clf)"
   ]
  },
  {
   "cell_type": "markdown",
   "metadata": {},
   "source": [
    "## Automated Testing of Docstring Examples\n",
    "\n",
    "There is an even easier way to run simple tests. This can be useful when we write specific functions to pre-process our data.\n",
    "In the Model Sharing notebook, we looked into auto-generating docstrings.\n",
    "\n",
    "We can upgrade our docstring and get free software tests out of it!\n",
    "\n",
    "This is called doctest and usually useful to keep docstring examples up to date and write quick unit tests for a function.\n",
    "\n",
    "This makes future users (including yourself from the future) quite happy."
   ]
  },
  {
   "cell_type": "code",
   "execution_count": 7,
   "metadata": {
    "execution": {
     "iopub.execute_input": "2022-12-02T12:08:45.790980Z",
     "iopub.status.busy": "2022-12-02T12:08:45.790918Z",
     "iopub.status.idle": "2022-12-02T12:08:45.802374Z",
     "shell.execute_reply": "2022-12-02T12:08:45.802134Z"
    }
   },
   "outputs": [
    {
     "data": {
      "text/plain": [
       "TestResults(failed=0, attempted=1)"
      ]
     },
     "execution_count": 7,
     "metadata": {},
     "output_type": "execute_result"
    }
   ],
   "source": [
    "def shorten_class_name(df: pd.DataFrame) -> pd.DataFrame:\n",
    "    \"\"\"Shorten the class names of the penguins to the shortest version\n",
    "\n",
    "    Parameters\n",
    "    ----------\n",
    "    df : pd.DataFrame\n",
    "        Dataframe containing the Species column with penguins\n",
    "\n",
    "    Returns\n",
    "    -------\n",
    "    pd.DataFrame\n",
    "        Normalised dataframe with shortened names\n",
    "    \n",
    "    Examples\n",
    "    --------\n",
    "    >>> shorten_class_name(pd.DataFrame([[1,2,3,\"Adelie Penguin (Pygoscelis adeliae)\"]], columns=[\"1\",\"2\",\"3\",\"Species\"]))\n",
    "       1  2  3 Species\n",
    "    0  1  2  3  Adelie\n",
    "    \"\"\"\n",
    "    df[\"Species\"] = df.Species.str.split(r\" [Pp]enguin\", n=1, expand=True)[0]\n",
    "\n",
    "    return df\n",
    "\n",
    "import doctest\n",
    "doctest.testmod()"
   ]
  },
  {
   "cell_type": "code",
   "execution_count": 8,
   "metadata": {
    "execution": {
     "iopub.execute_input": "2022-12-02T12:08:45.803746Z",
     "iopub.status.busy": "2022-12-02T12:08:45.803672Z",
     "iopub.status.idle": "2022-12-02T12:08:45.807728Z",
     "shell.execute_reply": "2022-12-02T12:08:45.807496Z"
    }
   },
   "outputs": [
    {
     "data": {
      "text/html": [
       "<div>\n",
       "<style scoped>\n",
       "    .dataframe tbody tr th:only-of-type {\n",
       "        vertical-align: middle;\n",
       "    }\n",
       "\n",
       "    .dataframe tbody tr th {\n",
       "        vertical-align: top;\n",
       "    }\n",
       "\n",
       "    .dataframe thead th {\n",
       "        text-align: right;\n",
       "    }\n",
       "</style>\n",
       "<table border=\"1\" class=\"dataframe\">\n",
       "  <thead>\n",
       "    <tr style=\"text-align: right;\">\n",
       "      <th></th>\n",
       "      <th>Culmen Length (mm)</th>\n",
       "      <th>Culmen Depth (mm)</th>\n",
       "      <th>Flipper Length (mm)</th>\n",
       "      <th>Sex</th>\n",
       "      <th>Species</th>\n",
       "    </tr>\n",
       "  </thead>\n",
       "  <tbody>\n",
       "    <tr>\n",
       "      <th>0</th>\n",
       "      <td>39.1</td>\n",
       "      <td>18.7</td>\n",
       "      <td>181.0</td>\n",
       "      <td>MALE</td>\n",
       "      <td>Adelie</td>\n",
       "    </tr>\n",
       "    <tr>\n",
       "      <th>1</th>\n",
       "      <td>39.5</td>\n",
       "      <td>17.4</td>\n",
       "      <td>186.0</td>\n",
       "      <td>FEMALE</td>\n",
       "      <td>Adelie</td>\n",
       "    </tr>\n",
       "    <tr>\n",
       "      <th>2</th>\n",
       "      <td>40.3</td>\n",
       "      <td>18.0</td>\n",
       "      <td>195.0</td>\n",
       "      <td>FEMALE</td>\n",
       "      <td>Adelie</td>\n",
       "    </tr>\n",
       "    <tr>\n",
       "      <th>3</th>\n",
       "      <td>36.7</td>\n",
       "      <td>19.3</td>\n",
       "      <td>193.0</td>\n",
       "      <td>FEMALE</td>\n",
       "      <td>Adelie</td>\n",
       "    </tr>\n",
       "    <tr>\n",
       "      <th>4</th>\n",
       "      <td>39.3</td>\n",
       "      <td>20.6</td>\n",
       "      <td>190.0</td>\n",
       "      <td>MALE</td>\n",
       "      <td>Adelie</td>\n",
       "    </tr>\n",
       "  </tbody>\n",
       "</table>\n",
       "</div>"
      ],
      "text/plain": [
       "   Culmen Length (mm)  Culmen Depth (mm)  Flipper Length (mm)     Sex Species\n",
       "0                39.1               18.7                181.0    MALE  Adelie\n",
       "1                39.5               17.4                186.0  FEMALE  Adelie\n",
       "2                40.3               18.0                195.0  FEMALE  Adelie\n",
       "3                36.7               19.3                193.0  FEMALE  Adelie\n",
       "4                39.3               20.6                190.0    MALE  Adelie"
      ]
     },
     "execution_count": 8,
     "metadata": {},
     "output_type": "execute_result"
    }
   ],
   "source": [
    "shorten_class_name(penguins).head()"
   ]
  },
  {
   "cell_type": "markdown",
   "metadata": {},
   "source": [
    "So these give a nice example of usage in the docstring, an expected output and a first test case that is validated by our test suite."
   ]
  },
  {
   "cell_type": "markdown",
   "metadata": {},
   "source": [
    "## Input Data Validation\n",
    "You validate that the data that users are providing matches what your model is expecting.\n",
    "\n",
    "These tools are often used in production systems to determine whether APIs usage and user inputs are formatted correctly.\n",
    "\n",
    "Example tools are:\n",
    "- [Great Expectations](https://greatexpectations.io/)\n",
    "- [Pandera](https://pandera.readthedocs.io/)"
   ]
  },
  {
   "cell_type": "code",
   "execution_count": 9,
   "metadata": {
    "execution": {
     "iopub.execute_input": "2022-12-02T12:08:45.809108Z",
     "iopub.status.busy": "2022-12-02T12:08:45.809045Z",
     "iopub.status.idle": "2022-12-02T12:08:45.892379Z",
     "shell.execute_reply": "2022-12-02T12:08:45.892113Z"
    }
   },
   "outputs": [],
   "source": [
    "import pandera as pa"
   ]
  },
  {
   "cell_type": "code",
   "execution_count": 10,
   "metadata": {
    "execution": {
     "iopub.execute_input": "2022-12-02T12:08:45.893984Z",
     "iopub.status.busy": "2022-12-02T12:08:45.893904Z",
     "iopub.status.idle": "2022-12-02T12:08:45.899698Z",
     "shell.execute_reply": "2022-12-02T12:08:45.899444Z"
    }
   },
   "outputs": [
    {
     "data": {
      "text/html": [
       "<div>\n",
       "<style scoped>\n",
       "    .dataframe tbody tr th:only-of-type {\n",
       "        vertical-align: middle;\n",
       "    }\n",
       "\n",
       "    .dataframe tbody tr th {\n",
       "        vertical-align: top;\n",
       "    }\n",
       "\n",
       "    .dataframe thead th {\n",
       "        text-align: right;\n",
       "    }\n",
       "</style>\n",
       "<table border=\"1\" class=\"dataframe\">\n",
       "  <thead>\n",
       "    <tr style=\"text-align: right;\">\n",
       "      <th></th>\n",
       "      <th>Culmen Length (mm)</th>\n",
       "      <th>Culmen Depth (mm)</th>\n",
       "      <th>Flipper Length (mm)</th>\n",
       "    </tr>\n",
       "  </thead>\n",
       "  <tbody>\n",
       "    <tr>\n",
       "      <th>count</th>\n",
       "      <td>233.000000</td>\n",
       "      <td>233.000000</td>\n",
       "      <td>233.000000</td>\n",
       "    </tr>\n",
       "    <tr>\n",
       "      <th>mean</th>\n",
       "      <td>43.982403</td>\n",
       "      <td>17.228755</td>\n",
       "      <td>201.412017</td>\n",
       "    </tr>\n",
       "    <tr>\n",
       "      <th>std</th>\n",
       "      <td>5.537146</td>\n",
       "      <td>1.994191</td>\n",
       "      <td>13.929695</td>\n",
       "    </tr>\n",
       "    <tr>\n",
       "      <th>min</th>\n",
       "      <td>33.500000</td>\n",
       "      <td>13.100000</td>\n",
       "      <td>172.000000</td>\n",
       "    </tr>\n",
       "    <tr>\n",
       "      <th>25%</th>\n",
       "      <td>39.000000</td>\n",
       "      <td>15.700000</td>\n",
       "      <td>190.000000</td>\n",
       "    </tr>\n",
       "    <tr>\n",
       "      <th>50%</th>\n",
       "      <td>44.400000</td>\n",
       "      <td>17.300000</td>\n",
       "      <td>198.000000</td>\n",
       "    </tr>\n",
       "    <tr>\n",
       "      <th>75%</th>\n",
       "      <td>48.800000</td>\n",
       "      <td>18.800000</td>\n",
       "      <td>213.000000</td>\n",
       "    </tr>\n",
       "    <tr>\n",
       "      <th>max</th>\n",
       "      <td>59.600000</td>\n",
       "      <td>21.200000</td>\n",
       "      <td>231.000000</td>\n",
       "    </tr>\n",
       "  </tbody>\n",
       "</table>\n",
       "</div>"
      ],
      "text/plain": [
       "       Culmen Length (mm)  Culmen Depth (mm)  Flipper Length (mm)\n",
       "count          233.000000         233.000000           233.000000\n",
       "mean            43.982403          17.228755           201.412017\n",
       "std              5.537146           1.994191            13.929695\n",
       "min             33.500000          13.100000           172.000000\n",
       "25%             39.000000          15.700000           190.000000\n",
       "50%             44.400000          17.300000           198.000000\n",
       "75%             48.800000          18.800000           213.000000\n",
       "max             59.600000          21.200000           231.000000"
      ]
     },
     "execution_count": 10,
     "metadata": {},
     "output_type": "execute_result"
    }
   ],
   "source": [
    "# data to validate\n",
    "X_train.describe()"
   ]
  },
  {
   "cell_type": "code",
   "execution_count": 11,
   "metadata": {
    "execution": {
     "iopub.execute_input": "2022-12-02T12:08:45.901140Z",
     "iopub.status.busy": "2022-12-02T12:08:45.901059Z",
     "iopub.status.idle": "2022-12-02T12:08:45.906636Z",
     "shell.execute_reply": "2022-12-02T12:08:45.906420Z"
    }
   },
   "outputs": [],
   "source": [
    "# define schema\n",
    "schema = pa.DataFrameSchema({\n",
    "    \"Culmen Length (mm)\": pa.Column(float, checks=[pa.Check.ge(30),\n",
    "                                                   pa.Check.le(60)]),\n",
    "    \"Culmen Depth (mm)\": pa.Column(float, checks=[pa.Check.ge(13),\n",
    "                                                  pa.Check.le(22)]),\n",
    "    \"Flipper Length (mm)\": pa.Column(float, checks=[pa.Check.ge(170),\n",
    "                                                    pa.Check.le(235)]),\n",
    "    \"Sex\": pa.Column(str, checks=pa.Check.isin([\"MALE\",\"FEMALE\"])),\n",
    "})\n",
    "\n",
    "validated_test = schema(X_train)"
   ]
  },
  {
   "cell_type": "code",
   "execution_count": 12,
   "metadata": {
    "execution": {
     "iopub.execute_input": "2022-12-02T12:08:45.908008Z",
     "iopub.status.busy": "2022-12-02T12:08:45.907924Z",
     "iopub.status.idle": "2022-12-02T12:08:45.910110Z",
     "shell.execute_reply": "2022-12-02T12:08:45.909893Z"
    }
   },
   "outputs": [
    {
     "data": {
      "text/plain": [
       "array(['FEMALE', 'MALE', '.'], dtype=object)"
      ]
     },
     "execution_count": 12,
     "metadata": {},
     "output_type": "execute_result"
    }
   ],
   "source": [
    "X_test.Sex.unique()"
   ]
  },
  {
   "cell_type": "code",
   "execution_count": 13,
   "metadata": {
    "execution": {
     "iopub.execute_input": "2022-12-02T12:08:45.911472Z",
     "iopub.status.busy": "2022-12-02T12:08:45.911368Z",
     "iopub.status.idle": "2022-12-02T12:08:45.914397Z",
     "shell.execute_reply": "2022-12-02T12:08:45.914102Z"
    }
   },
   "outputs": [
    {
     "data": {
      "text/plain": [
       "Culmen Length (mm)      44.5\n",
       "Culmen Depth (mm)       15.7\n",
       "Flipper Length (mm)    217.0\n",
       "Sex                        .\n",
       "Name: 259, dtype: object"
      ]
     },
     "execution_count": 13,
     "metadata": {},
     "output_type": "execute_result"
    }
   ],
   "source": [
    "X_test.loc[259]"
   ]
  },
  {
   "cell_type": "markdown",
   "metadata": {},
   "source": [
    "Can you fix the data to conform to the schema?"
   ]
  },
  {
   "cell_type": "code",
   "execution_count": null,
   "metadata": {
    "lines_to_next_cell": 2
   },
   "outputs": [],
   "source": []
  }
 ],
 "metadata": {
  "jupytext": {
   "formats": "notebooks//ipynb,python_scripts//py:percent"
  },
  "kernelspec": {
   "display_name": "Python 3.10.8 ('pydata-global-2022-ml-repro')",
   "language": "python",
   "name": "python3"
  },
  "language_info": {
   "codemirror_mode": {
    "name": "ipython",
    "version": 3
   },
   "file_extension": ".py",
   "mimetype": "text/x-python",
   "name": "python",
   "nbconvert_exporter": "python",
   "pygments_lexer": "ipython3",
   "version": "3.10.8"
  },
  "vscode": {
   "interpreter": {
    "hash": "d7369b48cea8bb1af6d88d25f2646d14ea11b68d7457d74f06fbf0d68480668d"
   }
  }
 },
 "nbformat": 4,
 "nbformat_minor": 2
}
